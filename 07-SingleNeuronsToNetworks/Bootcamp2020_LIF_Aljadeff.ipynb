{
 "cells": [
  {
   "cell_type": "code",
   "execution_count": null,
   "metadata": {},
   "outputs": [],
   "source": [
    "import numpy as np\n",
    "import scipy.signal as sps\n",
    "import pylab as plt\n",
    "from scipy.integrate import odeint\n",
    "\n",
    "\n",
    "Vth = 1    # threshold voltage\n",
    "Vr  = 0    # reset voltage\n",
    "tref = 2   # refractory period [ms]\n",
    "dt = 0.05   # integration timestep [ms]\n",
    "T  = 1000  # simulation duration [ms]\n",
    "\n",
    "t      = np.arange(0.0, T, dt)\n",
    "InjAmp = np.arange(0,6,0.1)             # injected amplitude  \n",
    "freq   = np.zeros(np.size(InjAmp),)     # frequency array\n",
    "Lt     = np.size(t)\n",
    "Vt     = np.zeros([np.size(InjAmp),Lt]) # voltage trace array\n",
    "\n",
    "for i0 in range(0,np.size(InjAmp)):\n",
    "    V  = np.zeros(Lt)\n",
    "    V[0] = Vr\n",
    "    tspk = []\n",
    "    tr = 0\n",
    "    for it in range(Lt-1):\n",
    "        if tr > 0:              # during refractory period voltage remains fixed at reset value\n",
    "            V[it] = Vr\n",
    "            tr    = tr-1\n",
    "        elif V[it]>=Vth:        # when voltage crosses threshold\n",
    "            tspk.append(it)     #  -- spike time added to list\n",
    "            V[it] = Vr          #  -- voltage reset    \n",
    "            tr = tref/dt        #  -- refractory period initialized\n",
    "        dV = -V[it]+InjAmp[i0]  # voltage update step\n",
    "        V[it+1] = V[it]+dV*dt   \n",
    "    Vt[i0,:] = V\n",
    "    freq[i0] = np.size(tspk)/T*1000 # computation of frequency\n",
    "\n",
    "plt.figure()\n",
    "plt.xlabel('I')\n",
    "plt.ylabel('f (Hz)')\n",
    "plt.title('f - I')\n",
    "plt.plot(InjAmp, freq, 'k')\n",
    "        \n"
   ]
  },
  {
   "cell_type": "code",
   "execution_count": null,
   "metadata": {},
   "outputs": [],
   "source": []
  }
 ],
 "metadata": {
  "kernelspec": {
   "display_name": "Python 3",
   "language": "python",
   "name": "python3"
  },
  "language_info": {
   "codemirror_mode": {
    "name": "ipython",
    "version": 3
   },
   "file_extension": ".py",
   "mimetype": "text/x-python",
   "name": "python",
   "nbconvert_exporter": "python",
   "pygments_lexer": "ipython3",
   "version": "3.7.3"
  }
 },
 "nbformat": 4,
 "nbformat_minor": 2
}
