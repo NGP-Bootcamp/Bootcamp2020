{
 "cells": [
  {
   "cell_type": "markdown",
   "metadata": {
    "slideshow": {
     "slide_type": "slide"
    }
   },
   "source": [
    "# Object-oriented programming\n",
    "\n",
    "In this notebook, we'll encounter **objects** and their use in Python.\n",
    "\n",
    "### At the end of this notebook, you'll be able to:\n",
    "* Access attributes and execute methods of objects\n",
    "* Define classes and recognize class definition syntax\n",
    "* Understand how to manipulate instances of a class"
   ]
  },
  {
   "cell_type": "markdown",
   "metadata": {
    "slideshow": {
     "slide_type": "slide"
    }
   },
   "source": [
    "<font color='Red'><font size = 8>Everything in Python is an object.</font></font>\n",
    "\n",
    "<font color='Orange'><font size = \"10\">Everything in Python is an object.</font></font>\n",
    "\n",
    "<font color='Green'><font size = \"10\">Everything in Python is an object.</font></font>\n",
    "\n",
    "<font color='Blue'><font size = \"10\">Everything in Python is an object.</font></font>\n",
    "\n",
    "<font color='Purple'><font size = \"10\">Everything in Python is an object.</font></font>"
   ]
  },
  {
   "cell_type": "markdown",
   "metadata": {
    "slideshow": {
     "slide_type": "slide"
    }
   },
   "source": [
    "### Objects are an organization of data (*attributes*), with associated code to operate on that data (functions defined on the objects, called *methods*).\n",
    "\n",
    "If you'd like to be sure, you can try `isinstance(thing,object`)\n",
    "\n",
    "### Syntax:\n",
    "```\n",
    "obj.method()\n",
    "obj.attribute\n",
    "```"
   ]
  },
  {
   "cell_type": "markdown",
   "metadata": {
    "slideshow": {
     "slide_type": "slide"
    }
   },
   "source": [
    "## Example object: Date.\n",
    "Date is **module** that we can import from the **package** datetime. Modules can contain any combination of functions, classes, or variables, that become accessible once we import them.\n",
    "\n",
    "Let's use `date` to demonstrate the features of an object in Python."
   ]
  },
  {
   "cell_type": "code",
   "execution_count": null,
   "metadata": {
    "slideshow": {
     "slide_type": "fragment"
    }
   },
   "outputs": [],
   "source": [
    "# Import date module from datetime package\n",
    "from datetime import date"
   ]
  },
  {
   "cell_type": "code",
   "execution_count": null,
   "metadata": {
    "slideshow": {
     "slide_type": "slide"
    }
   },
   "outputs": [],
   "source": [
    "# Set the data we want to store in our date object\n",
    "day = 25\n",
    "month = 1\n",
    "year = 2000\n",
    "\n",
    "# Create a date object\n",
    "my_date = date(year, month, day)\n",
    "print(my_date)"
   ]
  },
  {
   "cell_type": "code",
   "execution_count": null,
   "metadata": {
    "slideshow": {
     "slide_type": "fragment"
    }
   },
   "outputs": [],
   "source": [
    "# Check what type of thing `my_date` is\n",
    "type(my_date)"
   ]
  },
  {
   "cell_type": "markdown",
   "metadata": {
    "slideshow": {
     "slide_type": "slide"
    }
   },
   "source": [
    "We can check what attributes and methods an object has by using `.` after your variable name. You can also check more generally for the object type by using `date.`\n",
    "\n",
    "### **Attributes** maintain the object's state, simply returning information about the object to you (e.g., day, time, year)."
   ]
  },
  {
   "cell_type": "code",
   "execution_count": null,
   "metadata": {
    "slideshow": {
     "slide_type": "fragment"
    }
   },
   "outputs": [],
   "source": [
    "my_date."
   ]
  },
  {
   "cell_type": "markdown",
   "metadata": {
    "slideshow": {
     "slide_type": "slide"
    }
   },
   "source": [
    "### **Methods** are functions that belong to and operate on the object directly."
   ]
  },
  {
   "cell_type": "code",
   "execution_count": null,
   "metadata": {
    "slideshow": {
     "slide_type": "fragment"
    }
   },
   "outputs": [],
   "source": [
    "# Method to return what day of the week the date is\n",
    "# Note the parentheses for methods.\n",
    "my_date.weekday()"
   ]
  },
  {
   "cell_type": "markdown",
   "metadata": {
    "slideshow": {
     "slide_type": "slide"
    }
   },
   "source": [
    "Many objects also have very useful operations associated with them. For example, date allows us to subtract to find the difference between two dates."
   ]
  },
  {
   "cell_type": "code",
   "execution_count": null,
   "metadata": {
    "slideshow": {
     "slide_type": "fragment"
    }
   },
   "outputs": [],
   "source": [
    "# Define a second date\n",
    "my_date2 = date(1980, 7, 29)\n",
    "\n",
    "# Calculate the difference between times\n",
    "time_diff = my_date - my_date2\n",
    "print(time_diff.days,  \"days\") #in days\n",
    "print(time_diff.days/365,\"years\") #in years"
   ]
  },
  {
   "cell_type": "markdown",
   "metadata": {
    "slideshow": {
     "slide_type": "slide"
    }
   },
   "source": [
    "Another useful module is `datetime`. We can use it to print today's date, for example."
   ]
  },
  {
   "cell_type": "code",
   "execution_count": null,
   "metadata": {
    "slideshow": {
     "slide_type": "fragment"
    }
   },
   "outputs": [],
   "source": [
    "# Datetime is from the same package as date\n",
    "from datetime import datetime\n",
    "\n",
    "now = datetime.today()\n",
    "\n",
    "now.microsecond"
   ]
  },
  {
   "cell_type": "markdown",
   "metadata": {
    "slideshow": {
     "slide_type": "slide"
    }
   },
   "source": [
    "We've already encountered several methods, such as `append`. Another good one to know is `index`."
   ]
  },
  {
   "cell_type": "code",
   "execution_count": null,
   "metadata": {
    "slideshow": {
     "slide_type": "fragment"
    }
   },
   "outputs": [],
   "source": [
    "my_list = ['cat','dog','oppossum','zebra']\n",
    "\n",
    "my_list."
   ]
  },
  {
   "cell_type": "markdown",
   "metadata": {
    "slideshow": {
     "slide_type": "slide"
    }
   },
   "source": [
    "### Question Check-In\n",
    "For a hypothetical object called `neuron` how would you execute its method, `spike`?\n",
    "\n",
    "1. `neuron.spike`\n",
    "2. `neuron.spike()`\n",
    "3. `spike.neuron`\n",
    "4. `spike.neuron()`"
   ]
  },
  {
   "cell_type": "markdown",
   "metadata": {
    "slideshow": {
     "slide_type": "slide"
    }
   },
   "source": [
    "### Question Check-In #2\n",
    "If neuron has an attribute `diameter`, how would you access it?\n",
    "\n",
    "1. `neuron.diameter`\n",
    "2. `neuron.diameter()`\n",
    "3. `diameter(neuron)`\n",
    "4. `diameter.neuron`"
   ]
  },
  {
   "cell_type": "markdown",
   "metadata": {
    "slideshow": {
     "slide_type": "slide"
    }
   },
   "source": [
    "## Classes\n",
    "\n",
    "* An **object** is an entity that has attributes and methods.\n",
    "* An object's **class** defines specific properties objects of that class will have.\n",
    "* An **instance** is a separate object of a certain class\n",
    "\n",
    "Think of classes as the _blueprint_ for creating and defining objects and their properties (methods, attributes, etc.). They keep related things together and organized."
   ]
  },
  {
   "cell_type": "markdown",
   "metadata": {
    "slideshow": {
     "slide_type": "slide"
    }
   },
   "source": [
    "A class is defined almost like a function, but using the `class` keyword, and the class definition usually contains a number of class method definitions (a function in a class).\n",
    "* Each class method should have an argument `self` as its first argument. This object is a self-reference.\n",
    "* Some class method names have special meaning. For example, `__init__` is a method that is invoked when the object is first created.\n",
    "    * (Full list <a href=\"https://docs.python.org/2.0/ref/specialnames.html\">here</a>)"
   ]
  },
  {
   "cell_type": "markdown",
   "metadata": {
    "slideshow": {
     "slide_type": "slide"
    }
   },
   "source": [
    "Date and datetime are objects that are defined in the datetime module, but we can also define our own.\n",
    "\n",
    "Let's create \"Dog\" as an example class."
   ]
  },
  {
   "cell_type": "code",
   "execution_count": null,
   "metadata": {
    "slideshow": {
     "slide_type": "fragment"
    }
   },
   "outputs": [],
   "source": [
    "# Define a class with `class`. \n",
    "class Dog():\n",
    "    \n",
    "    # Class attributes for all Dogs\n",
    "    sound = 'Woof'\n",
    "\n",
    "    # Class methods for objects of type Dog\n",
    "    # Self is a special parameter that refers to the object\n",
    "    def speak(self):\n",
    "        print(self.sound)"
   ]
  },
  {
   "cell_type": "code",
   "execution_count": null,
   "metadata": {
    "slideshow": {
     "slide_type": "slide"
    }
   },
   "outputs": [],
   "source": [
    "# create an instance of Dog\n",
    "roger = Dog()\n",
    "\n",
    "# the Dog has a sound attribute\n",
    "roger.sound\n",
    "\n",
    "# the Dog has a speak method\n",
    "roger.speak() "
   ]
  },
  {
   "cell_type": "code",
   "execution_count": null,
   "metadata": {
    "slideshow": {
     "slide_type": "slide"
    }
   },
   "outputs": [],
   "source": [
    "# Initialize a group of dogs\n",
    "pack_of_dogs = [Dog(), Dog(), Dog(), Dog()]\n",
    "\n",
    "for dog in pack_of_dogs:\n",
    "    dog.speak()"
   ]
  },
  {
   "cell_type": "markdown",
   "metadata": {
    "slideshow": {
     "slide_type": "slide"
    }
   },
   "source": [
    "We can also create instance-specific attributes. Below, we've added an `init method` (the code below with `__init__`) which will create the attribute `name` whenever this class is initialized. This will allow each Dog instance to have its own name.\n",
    "\n",
    "**Note:** the order of methods and attributes does not matter, but it is conventional to have the init method first."
   ]
  },
  {
   "cell_type": "code",
   "execution_count": null,
   "metadata": {
    "slideshow": {
     "slide_type": "slide"
    }
   },
   "outputs": [],
   "source": [
    "class Dog():\n",
    "    \n",
    "    sound = 'Woof'\n",
    "    \n",
    "    # Initializer, allows us to specificy instance-specific attributes\n",
    "    # leading and trailing double underscores indicates that this is special to Python\n",
    "    def __init__(self,name):\n",
    "        self.name = name\n",
    "\n",
    "    def speak(self):\n",
    "        print(self.sound)"
   ]
  },
  {
   "cell_type": "code",
   "execution_count": null,
   "metadata": {
    "slideshow": {
     "slide_type": "slide"
    }
   },
   "outputs": [],
   "source": [
    "# Initialize a dog\n",
    "# what goes in the parentheses is defined in the __init__\n",
    "my_dog = Dog('Roger')\n",
    "\n",
    "my_dog.speak()"
   ]
  },
  {
   "cell_type": "markdown",
   "metadata": {
    "slideshow": {
     "slide_type": "fragment"
    }
   },
   "source": [
    "<div class=\"alert alert-success\">\n",
    "    <b>Task</b>: In the cell below, check the two attributes of our my_dog instance of the Dog class.</div>"
   ]
  },
  {
   "cell_type": "code",
   "execution_count": null,
   "metadata": {
    "slideshow": {
     "slide_type": "fragment"
    }
   },
   "outputs": [],
   "source": [
    "print(my_dog.sound)\n",
    "print(my_dog.name)\n",
    "\n",
    "my_dog."
   ]
  },
  {
   "cell_type": "markdown",
   "metadata": {
    "slideshow": {
     "slide_type": "slide"
    }
   },
   "source": [
    "We can also define methods that take inputs. For example, now speak has been modified to be proportional to the number of squirrels."
   ]
  },
  {
   "cell_type": "code",
   "execution_count": null,
   "metadata": {
    "slideshow": {
     "slide_type": "fragment"
    }
   },
   "outputs": [],
   "source": [
    "class Dog():\n",
    "    \n",
    "    # Class attributes for all Dogs\n",
    "    sound = 'Woof'\n",
    "    \n",
    "    # Initializer, allows us to specificy instance-specific attributes\n",
    "    # leading and trailing double underscores indicates that this is special to Python\n",
    "    def __init__(self,name):\n",
    "        self.name = name\n",
    "    \n",
    "    # Squirrels is a time series of # of squirrels, which our dog sums\n",
    "    def speak(self,squirrels):\n",
    "        self.barks = sum(squirrels)"
   ]
  },
  {
   "cell_type": "code",
   "execution_count": null,
   "metadata": {
    "slideshow": {
     "slide_type": "slide"
    }
   },
   "outputs": [],
   "source": [
    "my_dog = Dog('Squirrel Chaser')\n",
    "my_dog.speak([1,2,3])\n",
    "my_dog.barks"
   ]
  },
  {
   "cell_type": "markdown",
   "metadata": {
    "slideshow": {
     "slide_type": "slide"
    }
   },
   "source": [
    "## Class Inheritance\n",
    "Classes can also inherit other classes! "
   ]
  },
  {
   "cell_type": "code",
   "execution_count": null,
   "metadata": {
    "slideshow": {
     "slide_type": "slide"
    }
   },
   "outputs": [],
   "source": [
    "# First we define a broad class, Brain:\n",
    "class Brain(): \n",
    "    \n",
    "    def __init__(self, size = None, folded = None):\n",
    "        self.size = size\n",
    "        self.folded = folded\n",
    "        \n",
    "    def print_info(self):\n",
    "        folded_string = ''\n",
    "        if not self.folded:\n",
    "            folded_string = 'not'\n",
    "        print('This brain is ' + self.size + ' and is ' + folded_string + ' folded.')\n",
    "        \n",
    "        \n",
    "my_brain = Brain(size='large',folded=True)\n",
    "\n",
    "my_brain.print_info()"
   ]
  },
  {
   "cell_type": "code",
   "execution_count": null,
   "metadata": {
    "slideshow": {
     "slide_type": "slide"
    }
   },
   "outputs": [],
   "source": [
    "# Then, we can inherit an instance of Brain using this syntax: \n",
    "class SheepBrain(Brain):\n",
    "    \n",
    "    def __init__(self, size = 'medium', folded = False):\n",
    "        super().__init__(size, folded)\n",
    "        \n",
    "class HumanBrain(Brain):\n",
    "    def __init__(self, size = 'large', folded = True):\n",
    "        super().__init__(size, folded)"
   ]
  },
  {
   "cell_type": "markdown",
   "metadata": {
    "slideshow": {
     "slide_type": "slide"
    }
   },
   "source": [
    "What will the following cell print out?"
   ]
  },
  {
   "cell_type": "code",
   "execution_count": null,
   "metadata": {
    "slideshow": {
     "slide_type": "fragment"
    }
   },
   "outputs": [],
   "source": [
    "sheep = SheepBrain()\n",
    "human = HumanBrain()\n",
    "\n",
    "human.folded and sheep.folded"
   ]
  },
  {
   "cell_type": "markdown",
   "metadata": {
    "slideshow": {
     "slide_type": "slide"
    }
   },
   "source": [
    "<div class=\"alert alert-success\">\n",
    "    <b>Task</b>: Create a <code>Neuron</code> class. First, pseudocode your class, and <i>then</i> work on it in the cell below.\n",
    "    \n",
    "The neuron should have two attributes that are specific to each instance of it: `diameter` and `neuron_type`.\n",
    "    \n",
    "The neuron should also have a method, <code>spike</code> which adds a list of input values given to it, and is stored in the attribute <code>firing_rate</code>.\n",
    "\n",
    "In addition, give the neuron an attribute `spontaneous_firing_rate`, which is different for each neuron. Create an `integrate` method that adds adds an input to this spontaneous firing rate to update the `firing_rate` attribute.\n",
    "\n",
    "If you're feeling bold, create two different classes that inherit <code>Neuron</code>: excitatory and inhibitory. Then, create a population of neurons!</div>"
   ]
  },
  {
   "cell_type": "code",
   "execution_count": null,
   "metadata": {
    "slideshow": {
     "slide_type": "fragment"
    }
   },
   "outputs": [],
   "source": []
  },
  {
   "cell_type": "markdown",
   "metadata": {
    "slideshow": {
     "slide_type": "slide"
    }
   },
   "source": [
    "## About this notebook\n",
    "This notebook is largely derived from UCSD COGS18 Materials, created by Tom Donoghue & Shannon Ellis. \n",
    "\n",
    "Want to run this notebook as a slideshow? If you have Python (or Anaconda) follow <a href=\"http://www.blog.pythonlibrary.org/2018/09/25/creating-presentations-with-jupyter-notebook/\">these instructions</a> to setup your computer with the RISE plugin."
   ]
  }
 ],
 "metadata": {
  "celltoolbar": "Slideshow",
  "kernelspec": {
   "display_name": "Python 3",
   "language": "python",
   "name": "python3"
  },
  "language_info": {
   "codemirror_mode": {
    "name": "ipython",
    "version": 3
   },
   "file_extension": ".py",
   "mimetype": "text/x-python",
   "name": "python",
   "nbconvert_exporter": "python",
   "pygments_lexer": "ipython3",
   "version": "3.7.3"
  }
 },
 "nbformat": 4,
 "nbformat_minor": 2
}
